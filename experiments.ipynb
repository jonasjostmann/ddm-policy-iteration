{
 "cells": [
  {
   "cell_type": "markdown",
   "metadata": {},
   "source": [
    "## Experiments\n"
   ]
  },
  {
   "cell_type": "markdown",
   "metadata": {
    "pycharm": {
     "name": "#%% md\n"
    }
   },
   "source": [
    "### General Imports and Functions "
   ]
  },
  {
   "cell_type": "code",
   "execution_count": 1,
   "metadata": {},
   "outputs": [],
   "source": [
    "import pandas as pd\n",
    "import numpy as np\n",
    "import random\n",
    "import time\n",
    "import matplotlib.pyplot as plt\n",
    "from policyiter import evaluation, improvement, treebuilder, config\n",
    "from tqdm import tqdm"
   ]
  },
  {
   "cell_type": "code",
   "execution_count": 2,
   "metadata": {
    "pycharm": {
     "name": "#%%\n"
    }
   },
   "outputs": [],
   "source": [
    "def create_random_policy(pre_decision_states, post_decision_states):\n",
    "    \"\"\"\n",
    "    Method to create a random Policy\n",
    "    :param pre_decision_states: Pre-Decision states represented by an array\n",
    "    :param post_decision_states: Post-Decision states represented by an array\n",
    "    :return: policy represented by an array (indecis: Pre-Decision states, values: Post-Decision states)\n",
    "    \"\"\"\n",
    "    # Number of pre decision states to iterate over\n",
    "    n_pre_states = len(pre_decision_states)\n",
    "\n",
    "    # initialize policy\n",
    "    policy = [None] * n_pre_states\n",
    "\n",
    "    counter = 0\n",
    "\n",
    "    for pre_state in range(0, n_pre_states):\n",
    "\n",
    "        # Last States have an empty trans_mat because the time horizon is reached and no decision can be made\n",
    "        if (pre_decision_states[pre_state][\"trans_mat\"] is not None):\n",
    "            random.seed(config.SEED)\n",
    "            random_state = random.choice(pre_decision_states[pre_state][\"trans_mat\"].columns.levels[0])\n",
    "            price_index = pre_decision_states[pre_state][\"trans_mat\"].index[0]\n",
    "\n",
    "            policy[pre_state] = pre_decision_states[pre_state][\"trans_mat\"].loc[price_index][random_state]\\\n",
    "            .iloc[0][0][\"post_state\"]\n",
    "\n",
    "    return policy\n",
    "\n"
   ]
  },
  {
   "cell_type": "markdown",
   "metadata": {
    "pycharm": {
     "name": "#%% md\n"
    }
   },
   "source": [
    "### State Space Evolution"
   ]
  },
  {
   "cell_type": "code",
   "execution_count": 3,
   "metadata": {
    "pycharm": {
     "is_executing": false,
     "name": "#%% \n"
    },
    "scrolled": false
   },
   "outputs": [],
   "source": [
    "def build_tree(PRICE_MIN, PRICE_MAX, PRICE_STEP_SIZE, ENERGY_MIN, ENERGY_MAX, ENERGY_STEP_SIZE, EFF_COEFF, \n",
    "               MAX_PULL, MAX_PUSH, MAX_TIME, INITIAL_STATE):\n",
    "\n",
    "    # Definition of possible Price levels\n",
    "    price_levels = np.arange(PRICE_MIN, PRICE_MAX + PRICE_STEP_SIZE, PRICE_STEP_SIZE)\n",
    "\n",
    "    # Definition of possible Energy levels\n",
    "    energy_levels = np.arange(ENERGY_MIN, ENERGY_MAX + ENERGY_STEP_SIZE, ENERGY_STEP_SIZE)\n",
    "\n",
    "    time_horizon = np.arange(1, MAX_TIME + 1)\n",
    "\n",
    "    pre_decision_states = []\n",
    "    post_decision_states = []\n",
    "\n",
    "    pre_decision_states.append({\"v\": None, \"state\": INITIAL_STATE, \"trans_mat\": None})\n",
    "\n",
    "    # Create the tree\n",
    "    start_time_tree = time.process_time()\n",
    "    pre_decision_states, post_decision_states = treebuilder.create_tree(time_horizon,\n",
    "                                                                        energy_levels,\n",
    "                                                                        price_levels,\n",
    "                                                                        pre_decision_states,\n",
    "                                                                        post_decision_states,\n",
    "                                                                        MAX_PULL,\n",
    "                                                                        MAX_PUSH, 0)\n",
    "    stop_time_tree = time.process_time()\n",
    "\n",
    "    time_tree = stop_time_tree - start_time_tree\n",
    "\n",
    "    # returns 1. #pre_decision_states, 2. #post_decision_states, 3. #price_levels, 4. #energy_levels, \n",
    "    # 5. Time time_tree\n",
    "    return(len(pre_decision_states), len(post_decision_states), len(price_levels), len(energy_levels), time_tree)\n",
    "\n",
    "\n"
   ]
  },
  {
   "cell_type": "markdown",
   "metadata": {},
   "source": [
    "### Plot State Space growth"
   ]
  },
  {
   "cell_type": "markdown",
   "metadata": {},
   "source": [
    "#### Initial Parameters"
   ]
  },
  {
   "cell_type": "code",
   "execution_count": 19,
   "metadata": {},
   "outputs": [],
   "source": [
    "# DEFINITION OF PRICE LEVELS (DISCRETIZATION CAN BE MODIFIED WITH THE STEP SIZE)\n",
    "PRICE_MIN = 1\n",
    "PRICE_MAX = 2\n",
    "PRICE_STEP_SIZE = 1\n",
    "\n",
    "# DEFINITION OF ENERGY LEVELS (DISCRETIZATION CAN BE MODIFIED WITH THE STEP SIZE)\n",
    "ENERGY_MIN = 0\n",
    "ENERGY_MAX = 4\n",
    "ENERGY_STEP_SIZE = 1\n",
    "\n",
    "# MAXIMUM TIME STEPS (MUST BE A NATURAL NUMBER GREATER THEN 0)\n",
    "MAX_TIME = 2\n",
    "\n",
    "# Initialize state\n",
    "# Definition of states: [Price, Energy-Level]\n",
    "INITIAL_STATE = [1, 0]\n",
    "\n",
    "# Set a seed for the random policy creation\n",
    "SEED = 42\n",
    "\n",
    "# EFFICENCY COEFFICIENT MUST BE BETWEEN 0 AND 1\n",
    "EFF_COEFF = 0.9\n",
    "\n",
    "MAX_PULL = 100\n",
    "\n",
    "MAX_PUSH = 100\n"
   ]
  },
  {
   "cell_type": "markdown",
   "metadata": {},
   "source": [
    "#### Regarding Energy Levels"
   ]
  },
  {
   "cell_type": "code",
   "execution_count": 22,
   "metadata": {},
   "outputs": [
    {
     "name": "stderr",
     "output_type": "stream",
     "text": [
      "100%|██████████| 39/39 [02:43<00:00, 10.12s/it]\n"
     ]
    }
   ],
   "source": [
    "experiment_range = range(1,40,1)\n",
    "experiment_time = []\n",
    "amount_pre_states = []\n",
    "\n",
    "for i in tqdm(experiment_range):\n",
    "    ENERGY_MIN = 0\n",
    "    ENERGY_MAX = i\n",
    "    \n",
    "    pre_states, post_states, _, _, time_tree = build_tree(PRICE_MIN, PRICE_MAX, \n",
    "                                                          PRICE_STEP_SIZE, ENERGY_MIN, \n",
    "                                                          ENERGY_MAX, ENERGY_STEP_SIZE, EFF_COEFF, \n",
    "                                                          MAX_PULL, MAX_PUSH, MAX_TIME, \n",
    "                                                          INITIAL_STATE)\n",
    "    \n",
    "    amount_pre_states.append(pre_states)\n",
    "    experiment_time.append(time_tree)"
   ]
  },
  {
   "cell_type": "code",
   "execution_count": 21,
   "metadata": {
    "scrolled": false
   },
   "outputs": [
    {
     "data": {
      "image/png": "[encoded data removed]",
      "text/plain": [
       "<Figure size 800x480 with 1 Axes>"
      ]
     },
     "metadata": {},
     "output_type": "display_data"
    }
   ],
   "source": [
    "file_name = \"preStatesEnergyLevels_\"+ str(MAX_TIME) +\"_timeSteps_\" + str(max(experiment_range)) + \"_eLevels_\" + str(MAX_PULL) + \"_maxPull_\" + str(MAX_PUSH) + \"_maxPush\" \n",
    "plt.figure(num=None, figsize=(10, 6), dpi=80, facecolor='w', edgecolor='k')\n",
    "plt.plot(experiment_range, amount_pre_states)\n",
    "plt.xlabel(\"Number of Energy Levels\")\n",
    "plt.ylabel(\"Number of Pre-Decision States\")\n",
    "plt.title(\"Growth of Number of States\")\n",
    "plt.savefig('results/'+ file_name +'.png')"
   ]
  },
  {
   "cell_type": "code",
   "execution_count": null,
   "metadata": {},
   "outputs": [],
   "source": [
    "file_name = \"timeTreeBuilding_\"+ str(MAX_TIME) +\"_timeSteps_\" + str(max(experiment_range)) + \"_eLevels_\" + str(MAX_PULL) + \"_maxPull_\" + str(MAX_PUSH) + \"_maxPush\" \n",
    "plt.figure(num=None, figsize=(10, 6), dpi=80, facecolor='w', edgecolor='k')\n",
    "plt.plot(experiment_range, amount_pre_states)\n",
    "plt.xlabel(\"Number of Energy Levels\")\n",
    "plt.ylabel(\"Time necessary for Tree building\")\n",
    "plt.title(\"Growth of Number of States\")\n",
    "plt.savefig('results/'+ file_name +'.png')"
   ]
  },
  {
   "cell_type": "markdown",
   "metadata": {},
   "source": [
    "### Find marnginal Energy Storage size"
   ]
  },
  {
   "cell_type": "code",
   "execution_count": null,
   "metadata": {},
   "outputs": [],
   "source": []
  }
 ],
 "metadata": {
  "kernelspec": {
   "display_name": "PyCharm (ddm-policy-iteration)",
   "language": "python",
   "name": "pycharm-51c27798"
  },
  "language_info": {
   "codemirror_mode": {
    "name": "ipython",
    "version": 3
   },
   "file_extension": ".py",
   "mimetype": "text/x-python",
   "name": "python",
   "nbconvert_exporter": "python",
   "pygments_lexer": "ipython3",
   "version": "3.7.3"
  },
  "pycharm": {
   "stem_cell": {
    "cell_type": "raw",
    "metadata": {
     "collapsed": false
    },
    "source": []
   }
  }
 },
 "nbformat": 4,
 "nbformat_minor": 1
}
